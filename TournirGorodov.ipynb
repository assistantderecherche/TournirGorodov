{
 "cells": [
  {
   "cell_type": "code",
   "execution_count": 1,
   "metadata": {},
   "outputs": [],
   "source": [
    "import numpy as np\n",
    "#from numpy.random import randint as rnd\n",
    "import matplotlib.pyplot as plt\n",
    "from numpy.random import uniform\n",
    "\n",
    "def all_args_max(arr):\n",
    "    return np.where(arr >= np.max(arr))"
   ]
  },
  {
   "cell_type": "code",
   "execution_count": 2,
   "metadata": {},
   "outputs": [],
   "source": [
    "BigCity = 10000\n",
    "NSmallCities = 50\n",
    "SizeSmallCity = BigCity / NSmallCities\n",
    "n_good = 200\n",
    "Iterations = 10000"
   ]
  },
  {
   "cell_type": "code",
   "execution_count": 3,
   "metadata": {},
   "outputs": [],
   "source": [
    "class Country():\n",
    "    def __init__(self, size_big = BigCity, \n",
    "                 size_small = SizeSmallCity, n_small = NSmallCities):\n",
    "        \n",
    "        self.size_big = size_big\n",
    "        self.size_small = size_small\n",
    "        self.n_small = n_small\n",
    "        \n",
    "        self.n_cities = n_small + 1\n",
    "        self.pop = self.size_big + self.size_small*self.n_small\n",
    "        \n",
    "        self.cities_totals = np.zeros(self.n_cities)\n",
    "        \n",
    "        # keep track of number of times given city places 1 in a given iteration\n",
    "        self.top_finishes = np.zeros(self.n_cities)\n",
    "        \n",
    "        # Cities sizes\n",
    "        self.cities_pops = np.full((self.n_small+1), self.size_small)\n",
    "        # First city is the big one:\n",
    "        self.cities_pops[0] = self.size_big\n",
    "        \n",
    "        self.scores = np.zeros(self.n_cities)\n",
    "    \n",
    "    def addSmartOne(self, ind, verbose = False):\n",
    "        if ind < self.size_big:\n",
    "            city_ind = 0\n",
    "        else:\n",
    "            city_ind = int(np.floor((ind-self.size_big)/self.size_small))+1\n",
    "        \n",
    "        self.cities_totals[city_ind] += 1\n",
    "        if verbose:\n",
    "            print(f\"ind = {ind}, city_ind = {city_ind}\")\n",
    "        \n",
    "    \n",
    "    def print(self):\n",
    "        print(f\"Big/Small = {self.size_big/self.size_small}\")\n",
    "        print(f\"Total population = {self.pop}\")       \n",
    "        print(f\"Populations:\\t{self.cities_pops}\")\n",
    "        print(f\"Scores:\\t\\t{self.scores}\")\n",
    "        self.printTopFinishes()\n",
    "    \n",
    "    \n",
    "    def printTopFinishes(self):\n",
    "        print(f\"Totals:\\t\\t{self.cities_totals}\")\n",
    "        print(int(self.pop))\n",
    "        means = [self.top_finishes[i]/self.cities_pops[i] for i in range(int(self.n_cities))]\n",
    "        #print(f\"Standing:\\t{self.top_finishes}\")\n",
    "        print(f\"Standing:\\t{means}\")\n",
    "\n",
    "        \n",
    "    def computeTopFinishes(self):\n",
    "        for city_ind in range(self.n_cities):\n",
    "            p = self.cities_pops[city_ind]\n",
    "            s = self.cities_totals[city_ind]\n",
    "            s_bar = s/n_good\n",
    "            mu =  p/self.pop\n",
    "            #print(f's_bar = {s_bar}, mu = {mu}')\n",
    "            self.scores[city_ind] = np.sqrt(n_good)*(s_bar-mu)/p\n",
    "            \n",
    "            \n",
    "        self.top_finishes[all_args_max(self.scores)] += 1\n",
    "        self.cities_totals = np.zeros(self.n_cities)\n",
    "        self.scores = np.zeros(self.n_cities)\n",
    "        \n",
    "    def rnd(self):\n",
    "        return int(np.floor(uniform()*self.pop))"
   ]
  },
  {
   "cell_type": "code",
   "execution_count": 4,
   "metadata": {},
   "outputs": [],
   "source": [
    "def oneIteration(country, tries = n_good, verbose = False):\n",
    "    for i in range(tries):\n",
    "        #ind = rnd(1, country.pop)\n",
    "        ind = country.rnd()\n",
    "        country.addSmartOne(ind)\n",
    "    if verbose:\n",
    "        country.print()\n",
    "        print()\n",
    "    country.computeTopFinishes()"
   ]
  },
  {
   "cell_type": "code",
   "execution_count": 5,
   "metadata": {},
   "outputs": [
    {
     "name": "stdout",
     "output_type": "stream",
     "text": [
      "Totals:\t\t[0. 0. 0. 0. 0. 0. 0. 0. 0. 0. 0. 0. 0. 0. 0. 0. 0. 0. 0. 0. 0. 0. 0. 0.\n",
      " 0. 0. 0. 0. 0. 0. 0. 0. 0. 0. 0. 0. 0. 0. 0. 0. 0. 0. 0. 0. 0. 0. 0. 0.\n",
      " 0. 0. 0.]\n",
      "20000\n",
      "Standing:\t[0.0, 1.84, 1.875, 2.0, 1.795, 1.62, 1.825, 1.815, 1.715, 1.79, 1.685, 1.795, 1.88, 1.76, 1.705, 1.71, 1.77, 1.91, 1.735, 1.9, 1.815, 2.01, 1.83, 1.83, 1.91, 1.79, 1.81, 1.775, 1.775, 1.89, 1.825, 1.72, 1.81, 1.755, 1.715, 1.84, 1.93, 1.785, 1.84, 1.74, 1.875, 1.69, 1.775, 1.975, 1.94, 1.85, 1.725, 2.005, 1.835, 1.905, 1.855]\n",
      "Top Cities = (array([21]),)\n",
      "[  0. 368. 375. 400. 359. 324. 365. 363. 343. 358. 337. 359. 376. 352.\n",
      " 341. 342. 354. 382. 347. 380. 363. 402. 366. 366. 382. 358. 362. 355.\n",
      " 355. 378. 365. 344. 362. 351. 343. 368. 386. 357. 368. 348. 375. 338.\n",
      " 355. 395. 388. 370. 345. 401. 367. 381. 371.]\n"
     ]
    },
    {
     "data": {
      "image/png": "[encoded data removed]",
      "text/plain": [
       "<Figure size 432x288 with 1 Axes>"
      ]
     },
     "metadata": {
      "needs_background": "light"
     },
     "output_type": "display_data"
    }
   ],
   "source": [
    "c1 = Country()\n",
    "\n",
    "for j in range(Iterations):\n",
    "    oneIteration(c1, verbose=False)\n",
    "    \n",
    "c1.printTopFinishes()\n",
    "print(f\"Top Cities = {all_args_max(c1.top_finishes)}\")\n",
    "print(c1.top_finishes)\n",
    "means = [c1.top_finishes[i]/c1.cities_pops[i] for i in range(int(c1.n_cities))]\n",
    "plt.scatter(x = range(len(c1.top_finishes)), y = means)\n",
    "plt.savefig('topFinishes.png')"
   ]
  },
  {
   "cell_type": "code",
   "execution_count": null,
   "metadata": {},
   "outputs": [],
   "source": []
  }
 ],
 "metadata": {
  "kernelspec": {
   "display_name": "Python 3",
   "language": "python",
   "name": "python3"
  },
  "language_info": {
   "codemirror_mode": {
    "name": "ipython",
    "version": 3
   },
   "file_extension": ".py",
   "mimetype": "text/x-python",
   "name": "python",
   "nbconvert_exporter": "python",
   "pygments_lexer": "ipython3",
   "version": "3.6.8"
  }
 },
 "nbformat": 4,
 "nbformat_minor": 4
}
