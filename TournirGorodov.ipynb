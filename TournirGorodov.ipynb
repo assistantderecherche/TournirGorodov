{
 "cells": [
  {
   "cell_type": "code",
   "execution_count": 33,
   "metadata": {},
   "outputs": [],
   "source": [
    "import numpy as np\n",
    "#from numpy.random import randint as rnd\n",
    "import matplotlib.pyplot as plt\n",
    "from numpy.random import uniform\n",
    "\n",
    "def all_args_max(arr):\n",
    "    return np.where(arr >= np.max(arr))"
   ]
  },
  {
   "cell_type": "code",
   "execution_count": 34,
   "metadata": {},
   "outputs": [],
   "source": [
    "BigCity = 10000\n",
    "NSmallCities = 50\n",
    "SizeSmallCity = BigCity / NSmallCities\n",
    "n_good = 200\n",
    "Iterations = 10000"
   ]
  },
  {
   "cell_type": "code",
   "execution_count": 35,
   "metadata": {},
   "outputs": [],
   "source": [
    "class Country():\n",
    "    def __init__(self, size_big = BigCity, \n",
    "                 size_small = SizeSmallCity, n_small = NSmallCities):\n",
    "        \n",
    "        self.size_big = size_big\n",
    "        self.size_small = size_small\n",
    "        self.n_small = n_small\n",
    "        \n",
    "        self.n_cities = n_small + 1\n",
    "        self.pop = self.size_big + self.size_small*self.n_small\n",
    "        \n",
    "        self.cities_totals = np.zeros(self.n_cities)\n",
    "        \n",
    "        # keep track of number of times given city places 1 in a given iteration\n",
    "        self.top_finishes = np.zeros(self.n_cities)\n",
    "        \n",
    "        # Cities sizes\n",
    "        self.cities_pops = np.full((self.n_small+1), self.size_small)\n",
    "        # First city is the big one:\n",
    "        self.cities_pops[0] = self.size_big\n",
    "        \n",
    "        self.scores = np.zeros(self.n_cities)\n",
    "    \n",
    "    def addSmartOne(self, ind, verbose = False):\n",
    "        if ind < self.size_big:\n",
    "            city_ind = 0\n",
    "        else:\n",
    "            city_ind = int(np.floor((ind-self.size_big)/self.size_small))+1\n",
    "        \n",
    "        self.cities_totals[city_ind] += 1\n",
    "        if verbose:\n",
    "            print(f\"ind = {ind}, city_ind = {city_ind}\")\n",
    "        \n",
    "    \n",
    "    def print(self):\n",
    "        print(f\"Big/Small = {self.size_big/self.size_small}\")\n",
    "        print(f\"Total population = {self.pop}\")       \n",
    "        print(f\"Populations:\\t{self.cities_pops}\")\n",
    "        print(f\"Scores:\\t\\t{self.scores}\")\n",
    "        self.printTopFinishes()\n",
    "    \n",
    "    \n",
    "    def printTopFinishes(self):\n",
    "        print(f\"Totals:\\t\\t{self.cities_totals}\")\n",
    "        print(int(self.pop))\n",
    "        means = [self.top_finishes[i]/self.cities_pops[i] for i in range(int(self.n_cities))]\n",
    "        #print(f\"Standing:\\t{self.top_finishes}\")\n",
    "        print(f\"Standing:\\t{means}\")\n",
    "\n",
    "        \n",
    "    def computeTopFinishes(self):\n",
    "        for city_ind in range(self.n_cities):\n",
    "            p = self.cities_pops[city_ind]\n",
    "            s = self.cities_totals[city_ind]\n",
    "            s_bar = s/n_good\n",
    "            mu =  p/self.pop\n",
    "            #print(f's_bar = {s_bar}, mu = {mu}')\n",
    "            self.scores[city_ind] = np.sqrt(n_good)*(s_bar-mu)/p\n",
    "            \n",
    "            \n",
    "        self.top_finishes[all_args_max(self.scores)] += 1\n",
    "        self.cities_totals = np.zeros(self.n_cities)\n",
    "        self.scores = np.zeros(self.n_cities)\n",
    "        \n",
    "    def rnd(self):\n",
    "        return int(np.floor(uniform()*self.pop))"
   ]
  },
  {
   "cell_type": "code",
   "execution_count": 36,
   "metadata": {},
   "outputs": [],
   "source": [
    "def oneIteration(country, tries = n_good, verbose = False):\n",
    "    for i in range(tries):\n",
    "        #ind = rnd(1, country.pop)\n",
    "        ind = country.rnd()\n",
    "        country.addSmartOne(ind)\n",
    "    if verbose:\n",
    "        country.print()\n",
    "        print()\n",
    "    country.computeTopFinishes()"
   ]
  },
  {
   "cell_type": "code",
   "execution_count": 37,
   "metadata": {},
   "outputs": [
    {
     "name": "stdout",
     "output_type": "stream",
     "text": [
      "Totals:\t\t[0. 0. 0. 0. 0. 0. 0. 0. 0. 0. 0. 0. 0. 0. 0. 0. 0. 0. 0. 0. 0. 0. 0. 0.\n",
      " 0. 0. 0. 0. 0. 0. 0. 0. 0. 0. 0. 0. 0. 0. 0. 0. 0. 0. 0. 0. 0. 0. 0. 0.\n",
      " 0. 0. 0.]\n",
      "20000\n",
      "Standing:\t[0.0, 1.755, 1.83, 1.77, 1.715, 1.78, 1.805, 1.795, 1.7, 1.81, 1.625, 1.82, 1.925, 1.69, 1.835, 1.87, 1.845, 1.855, 1.74, 1.88, 1.715, 1.95, 1.715, 1.72, 1.895, 1.77, 1.775, 1.64, 1.795, 1.845, 1.81, 1.74, 1.9, 1.715, 1.9, 1.73, 1.725, 1.69, 1.92, 1.915, 1.74, 1.885, 1.85, 1.785, 2.02, 1.965, 1.905, 1.91, 1.86, 1.81, 1.775]\n",
      "Top Cities = (array([44]),)\n",
      "[  0. 351. 366. 354. 343. 356. 361. 359. 340. 362. 325. 364. 385. 338.\n",
      " 367. 374. 369. 371. 348. 376. 343. 390. 343. 344. 379. 354. 355. 328.\n",
      " 359. 369. 362. 348. 380. 343. 380. 346. 345. 338. 384. 383. 348. 377.\n",
      " 370. 357. 404. 393. 381. 382. 372. 362. 355.]\n"
     ]
    },
    {
     "data": {
      "text/plain": [
       "<matplotlib.collections.PathCollection at 0x7f708ad84b00>"
      ]
     },
     "execution_count": 37,
     "metadata": {},
     "output_type": "execute_result"
    },
    {
     "data": {
      "image/png": "[encoded data removed]",
      "text/plain": [
       "<Figure size 432x288 with 1 Axes>"
      ]
     },
     "metadata": {
      "needs_background": "light"
     },
     "output_type": "display_data"
    }
   ],
   "source": [
    "c1 = Country()\n",
    "\n",
    "for j in range(Iterations):\n",
    "    oneIteration(c1, verbose=False)\n",
    "    \n",
    "c1.printTopFinishes()\n",
    "print(f\"Top Cities = {all_args_max(c1.top_finishes)}\")\n",
    "print(c1.top_finishes)\n",
    "means = [c1.top_finishes[i]/c1.cities_pops[i] for i in range(int(c1.n_cities))]\n",
    "plt.scatter(x = range(len(c1.top_finishes)), y = means)"
   ]
  }
 ],
 "metadata": {
  "kernelspec": {
   "display_name": "Python 3",
   "language": "python",
   "name": "python3"
  },
  "language_info": {
   "codemirror_mode": {
    "name": "ipython",
    "version": 3
   },
   "file_extension": ".py",
   "mimetype": "text/x-python",
   "name": "python",
   "nbconvert_exporter": "python",
   "pygments_lexer": "ipython3",
   "version": "3.6.8"
  }
 },
 "nbformat": 4,
 "nbformat_minor": 4
}
